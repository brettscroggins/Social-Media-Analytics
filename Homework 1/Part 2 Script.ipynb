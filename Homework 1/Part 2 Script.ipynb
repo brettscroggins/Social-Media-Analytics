{
 "cells": [
  {
   "cell_type": "markdown",
   "metadata": {},
   "source": [
    "# Social Media Analytics Spring 2018 - Assignment #1\n",
    "\n",
    "## Matt Barrett, Tim Lai, Christine Mulcahy, Elena Reynolds, and Brett Scroggins"
   ]
  },
  {
   "cell_type": "markdown",
   "metadata": {},
   "source": [
    "## Part II: Finding influencers from Twitter"
   ]
  },
  {
   "cell_type": "code",
   "execution_count": 1,
   "metadata": {
    "collapsed": true
   },
   "outputs": [],
   "source": [
    "import pandas as pd\n",
    "import numpy as np\n",
    "import networkx\n",
    "import math\n",
    "from copy import deepcopy\n",
    "import csv\n",
    "import matplotlib.pyplot as plt"
   ]
  },
  {
   "cell_type": "code",
   "execution_count": 2,
   "metadata": {},
   "outputs": [
    {
     "data": {
      "text/html": [
       "<div>\n",
       "<style>\n",
       "    .dataframe thead tr:only-child th {\n",
       "        text-align: right;\n",
       "    }\n",
       "\n",
       "    .dataframe thead th {\n",
       "        text-align: left;\n",
       "    }\n",
       "\n",
       "    .dataframe tbody tr th {\n",
       "        vertical-align: top;\n",
       "    }\n",
       "</style>\n",
       "<table border=\"1\" class=\"dataframe\">\n",
       "  <thead>\n",
       "    <tr style=\"text-align: right;\">\n",
       "      <th></th>\n",
       "      <th>screen_name</th>\n",
       "      <th>follower_cnt</th>\n",
       "      <th>listed_cnt</th>\n",
       "      <th>OriginalAuthor</th>\n",
       "      <th>Type</th>\n",
       "    </tr>\n",
       "  </thead>\n",
       "  <tbody>\n",
       "    <tr>\n",
       "      <th>127</th>\n",
       "      <td>02July1776</td>\n",
       "      <td>770.0</td>\n",
       "      <td>2.0</td>\n",
       "      <td>stealthygeek</td>\n",
       "      <td>RT</td>\n",
       "    </tr>\n",
       "    <tr>\n",
       "      <th>1762</th>\n",
       "      <td>040Brian</td>\n",
       "      <td>191.0</td>\n",
       "      <td>4.0</td>\n",
       "      <td>StefanMolyneux</td>\n",
       "      <td>RT</td>\n",
       "    </tr>\n",
       "    <tr>\n",
       "      <th>1486</th>\n",
       "      <td>080TFairchild</td>\n",
       "      <td>187.0</td>\n",
       "      <td>2.0</td>\n",
       "      <td>bellvisuals</td>\n",
       "      <td>RT</td>\n",
       "    </tr>\n",
       "    <tr>\n",
       "      <th>2512</th>\n",
       "      <td>08balet80</td>\n",
       "      <td>2807.0</td>\n",
       "      <td>11.0</td>\n",
       "      <td>08balet80</td>\n",
       "      <td>Original</td>\n",
       "    </tr>\n",
       "    <tr>\n",
       "      <th>4595</th>\n",
       "      <td>0Kultra</td>\n",
       "      <td>1803.0</td>\n",
       "      <td>28.0</td>\n",
       "      <td>Nonsensicole</td>\n",
       "      <td>RT</td>\n",
       "    </tr>\n",
       "  </tbody>\n",
       "</table>\n",
       "</div>"
      ],
      "text/plain": [
       "        screen_name  follower_cnt  listed_cnt  OriginalAuthor      Type\n",
       "127      02July1776         770.0         2.0    stealthygeek        RT\n",
       "1762       040Brian         191.0         4.0  StefanMolyneux        RT\n",
       "1486  080TFairchild         187.0         2.0     bellvisuals        RT\n",
       "2512      08balet80        2807.0        11.0       08balet80  Original\n",
       "4595        0Kultra        1803.0        28.0    Nonsensicole        RT"
      ]
     },
     "execution_count": 2,
     "metadata": {},
     "output_type": "execute_result"
    }
   ],
   "source": [
    "complete_df = pd.read_csv(\"completeDF.csv\")\n",
    "\n",
    "del complete_df['Unnamed: 0']\n",
    "del complete_df['text']\n",
    "\n",
    "tweets_df = complete_df.sort_values('screen_name', ascending = True)\n",
    "tweets_df.reindex(tweets_df['screen_name'])\n",
    "\n",
    "tweets_df.head()"
   ]
  },
  {
   "cell_type": "code",
   "execution_count": 3,
   "metadata": {
    "collapsed": true
   },
   "outputs": [],
   "source": [
    "output_df = deepcopy(tweets_df)\n",
    "\n",
    "del output_df['follower_cnt']\n",
    "del output_df['listed_cnt']\n",
    "\n",
    "output_df.to_csv('output_file.csv')"
   ]
  },
  {
   "cell_type": "code",
   "execution_count": 4,
   "metadata": {
    "collapsed": true
   },
   "outputs": [],
   "source": [
    "net_x = networkx.DiGraph()"
   ]
  },
  {
   "cell_type": "code",
   "execution_count": 5,
   "metadata": {
    "collapsed": true
   },
   "outputs": [],
   "source": [
    "retweets = {}\n",
    "\n",
    "for tweet in tweets_df.iterrows():\n",
    "    \n",
    "    if tweet[1][4] == \"RT\":\n",
    "        if tweet[1][3] in retweets.keys():\n",
    "            retweets[tweet[1][3]] += 1\n",
    "        else:\n",
    "            retweets[tweet[1][3]] = 1\n",
    "        \n",
    "    net_x.add_edge(tweet[1][0], tweet[1][3])"
   ]
  },
  {
   "cell_type": "code",
   "execution_count": 6,
   "metadata": {
    "collapsed": true
   },
   "outputs": [],
   "source": [
    "influence_df = pd.DataFrame({'retweets':retweets,\n",
    "                             'degree':net_x.degree(),\n",
    "                             'betweenness':networkx.betweenness_centrality(net_x),\n",
    "                             'closeness':networkx.closeness_centrality(net_x)\n",
    "})"
   ]
  },
  {
   "cell_type": "code",
   "execution_count": 7,
   "metadata": {},
   "outputs": [
    {
     "data": {
      "text/html": [
       "<div>\n",
       "<style>\n",
       "    .dataframe thead tr:only-child th {\n",
       "        text-align: right;\n",
       "    }\n",
       "\n",
       "    .dataframe thead th {\n",
       "        text-align: left;\n",
       "    }\n",
       "\n",
       "    .dataframe tbody tr th {\n",
       "        vertical-align: top;\n",
       "    }\n",
       "</style>\n",
       "<table border=\"1\" class=\"dataframe\">\n",
       "  <thead>\n",
       "    <tr style=\"text-align: right;\">\n",
       "      <th></th>\n",
       "      <th>betweenness</th>\n",
       "      <th>closeness</th>\n",
       "      <th>degree</th>\n",
       "      <th>retweets</th>\n",
       "    </tr>\n",
       "  </thead>\n",
       "  <tbody>\n",
       "    <tr>\n",
       "      <th>02July1776</th>\n",
       "      <td>0.0</td>\n",
       "      <td>0.000164</td>\n",
       "      <td>1</td>\n",
       "      <td>0.0</td>\n",
       "    </tr>\n",
       "    <tr>\n",
       "      <th>040Brian</th>\n",
       "      <td>0.0</td>\n",
       "      <td>0.000164</td>\n",
       "      <td>1</td>\n",
       "      <td>0.0</td>\n",
       "    </tr>\n",
       "    <tr>\n",
       "      <th>080TFairchild</th>\n",
       "      <td>0.0</td>\n",
       "      <td>0.000164</td>\n",
       "      <td>1</td>\n",
       "      <td>0.0</td>\n",
       "    </tr>\n",
       "    <tr>\n",
       "      <th>08balet80</th>\n",
       "      <td>0.0</td>\n",
       "      <td>0.000000</td>\n",
       "      <td>2</td>\n",
       "      <td>0.0</td>\n",
       "    </tr>\n",
       "    <tr>\n",
       "      <th>0Kultra</th>\n",
       "      <td>0.0</td>\n",
       "      <td>0.000164</td>\n",
       "      <td>1</td>\n",
       "      <td>0.0</td>\n",
       "    </tr>\n",
       "  </tbody>\n",
       "</table>\n",
       "</div>"
      ],
      "text/plain": [
       "               betweenness  closeness  degree  retweets\n",
       "02July1776             0.0   0.000164       1       0.0\n",
       "040Brian               0.0   0.000164       1       0.0\n",
       "080TFairchild          0.0   0.000164       1       0.0\n",
       "08balet80              0.0   0.000000       2       0.0\n",
       "0Kultra                0.0   0.000164       1       0.0"
      ]
     },
     "execution_count": 7,
     "metadata": {},
     "output_type": "execute_result"
    }
   ],
   "source": [
    "influence_df['retweets'].fillna(0, inplace=True)\n",
    "influence_df.head()"
   ]
  },
  {
   "cell_type": "code",
   "execution_count": 8,
   "metadata": {
    "collapsed": true
   },
   "outputs": [],
   "source": [
    "scaled_degree = influence_df['degree'] / influence_df['degree'].max()"
   ]
  },
  {
   "cell_type": "code",
   "execution_count": 9,
   "metadata": {},
   "outputs": [
    {
     "data": {
      "text/html": [
       "<div>\n",
       "<style>\n",
       "    .dataframe thead tr:only-child th {\n",
       "        text-align: right;\n",
       "    }\n",
       "\n",
       "    .dataframe thead th {\n",
       "        text-align: left;\n",
       "    }\n",
       "\n",
       "    .dataframe tbody tr th {\n",
       "        vertical-align: top;\n",
       "    }\n",
       "</style>\n",
       "<table border=\"1\" class=\"dataframe\">\n",
       "  <thead>\n",
       "    <tr style=\"text-align: right;\">\n",
       "      <th></th>\n",
       "      <th>betweenness</th>\n",
       "      <th>closeness</th>\n",
       "      <th>degree</th>\n",
       "      <th>retweets</th>\n",
       "    </tr>\n",
       "  </thead>\n",
       "  <tbody>\n",
       "    <tr>\n",
       "      <th>02July1776</th>\n",
       "      <td>0.0</td>\n",
       "      <td>0.000164</td>\n",
       "      <td>0.005525</td>\n",
       "      <td>0.0</td>\n",
       "    </tr>\n",
       "    <tr>\n",
       "      <th>040Brian</th>\n",
       "      <td>0.0</td>\n",
       "      <td>0.000164</td>\n",
       "      <td>0.005525</td>\n",
       "      <td>0.0</td>\n",
       "    </tr>\n",
       "    <tr>\n",
       "      <th>080TFairchild</th>\n",
       "      <td>0.0</td>\n",
       "      <td>0.000164</td>\n",
       "      <td>0.005525</td>\n",
       "      <td>0.0</td>\n",
       "    </tr>\n",
       "    <tr>\n",
       "      <th>08balet80</th>\n",
       "      <td>0.0</td>\n",
       "      <td>0.000000</td>\n",
       "      <td>0.011050</td>\n",
       "      <td>0.0</td>\n",
       "    </tr>\n",
       "    <tr>\n",
       "      <th>0Kultra</th>\n",
       "      <td>0.0</td>\n",
       "      <td>0.000164</td>\n",
       "      <td>0.005525</td>\n",
       "      <td>0.0</td>\n",
       "    </tr>\n",
       "  </tbody>\n",
       "</table>\n",
       "</div>"
      ],
      "text/plain": [
       "               betweenness  closeness    degree  retweets\n",
       "02July1776             0.0   0.000164  0.005525       0.0\n",
       "040Brian               0.0   0.000164  0.005525       0.0\n",
       "080TFairchild          0.0   0.000164  0.005525       0.0\n",
       "08balet80              0.0   0.000000  0.011050       0.0\n",
       "0Kultra                0.0   0.000164  0.005525       0.0"
      ]
     },
     "execution_count": 9,
     "metadata": {},
     "output_type": "execute_result"
    }
   ],
   "source": [
    "influence_df['degree'] = scaled_degree\n",
    "influence_df.head()"
   ]
  },
  {
   "cell_type": "code",
   "execution_count": 10,
   "metadata": {},
   "outputs": [
    {
     "data": {
      "text/plain": [
       "6115"
      ]
     },
     "execution_count": 10,
     "metadata": {},
     "output_type": "execute_result"
    }
   ],
   "source": [
    "full_df = pd.merge(tweets_df, influence_df, left_on = 'screen_name', right_index = True)\n",
    "\n",
    "full_df.set_index('screen_name', inplace = True)\n",
    "full_df = full_df[~full_df.index.duplicated(keep='first')]\n",
    "\n",
    "del full_df['OriginalAuthor']\n",
    "del full_df['Type']\n",
    "\n",
    "len(full_df)"
   ]
  },
  {
   "cell_type": "code",
   "execution_count": 11,
   "metadata": {
    "collapsed": true
   },
   "outputs": [],
   "source": [
    "full_df['follower_cnt'] = full_df['follower_cnt'].apply(lambda x: (x - full_df['follower_cnt'].mean()) / full_df['follower_cnt'].std())\n",
    "full_df['listed_cnt'] = full_df['listed_cnt'].apply(lambda x: (x - full_df['listed_cnt'].mean()) / full_df['listed_cnt'].std())\n",
    "full_df['retweets'] = full_df['retweets'].apply(lambda x: (x - full_df['retweets'].mean()) / full_df['retweets'].std())"
   ]
  },
  {
   "cell_type": "code",
   "execution_count": 12,
   "metadata": {
    "collapsed": true
   },
   "outputs": [],
   "source": [
    "w = [.2,.4,.2,.2]"
   ]
  },
  {
   "cell_type": "code",
   "execution_count": 13,
   "metadata": {
    "collapsed": true
   },
   "outputs": [],
   "source": [
    "full_df['score'] = w[0]*full_df['retweets'] + \\\n",
    "                        w[1]*full_df['listed_cnt'] + \\\n",
    "                        w[2]*full_df['follower_cnt'] + \\\n",
    "                        w[3]*(full_df['degree']+full_df['betweenness']+full_df['closeness'])"
   ]
  },
  {
   "cell_type": "code",
   "execution_count": 14,
   "metadata": {},
   "outputs": [
    {
     "data": {
      "text/html": [
       "<div>\n",
       "<style>\n",
       "    .dataframe thead tr:only-child th {\n",
       "        text-align: right;\n",
       "    }\n",
       "\n",
       "    .dataframe thead th {\n",
       "        text-align: left;\n",
       "    }\n",
       "\n",
       "    .dataframe tbody tr th {\n",
       "        vertical-align: top;\n",
       "    }\n",
       "</style>\n",
       "<table border=\"1\" class=\"dataframe\">\n",
       "  <thead>\n",
       "    <tr style=\"text-align: right;\">\n",
       "      <th></th>\n",
       "      <th>follower_cnt</th>\n",
       "      <th>listed_cnt</th>\n",
       "      <th>betweenness</th>\n",
       "      <th>closeness</th>\n",
       "      <th>degree</th>\n",
       "      <th>retweets</th>\n",
       "      <th>score</th>\n",
       "    </tr>\n",
       "    <tr>\n",
       "      <th>screen_name</th>\n",
       "      <th></th>\n",
       "      <th></th>\n",
       "      <th></th>\n",
       "      <th></th>\n",
       "      <th></th>\n",
       "      <th></th>\n",
       "      <th></th>\n",
       "    </tr>\n",
       "  </thead>\n",
       "  <tbody>\n",
       "    <tr>\n",
       "      <th>02July1776</th>\n",
       "      <td>-0.080401</td>\n",
       "      <td>-0.140795</td>\n",
       "      <td>0.0</td>\n",
       "      <td>0.000164</td>\n",
       "      <td>0.005525</td>\n",
       "      <td>-0.13029</td>\n",
       "      <td>-0.097319</td>\n",
       "    </tr>\n",
       "    <tr>\n",
       "      <th>040Brian</th>\n",
       "      <td>-0.089844</td>\n",
       "      <td>-0.137005</td>\n",
       "      <td>0.0</td>\n",
       "      <td>0.000164</td>\n",
       "      <td>0.005525</td>\n",
       "      <td>-0.13029</td>\n",
       "      <td>-0.097691</td>\n",
       "    </tr>\n",
       "    <tr>\n",
       "      <th>080TFairchild</th>\n",
       "      <td>-0.089909</td>\n",
       "      <td>-0.140795</td>\n",
       "      <td>0.0</td>\n",
       "      <td>0.000164</td>\n",
       "      <td>0.005525</td>\n",
       "      <td>-0.13029</td>\n",
       "      <td>-0.099220</td>\n",
       "    </tr>\n",
       "    <tr>\n",
       "      <th>08balet80</th>\n",
       "      <td>-0.047178</td>\n",
       "      <td>-0.123739</td>\n",
       "      <td>0.0</td>\n",
       "      <td>0.000000</td>\n",
       "      <td>0.011050</td>\n",
       "      <td>-0.13029</td>\n",
       "      <td>-0.082779</td>\n",
       "    </tr>\n",
       "    <tr>\n",
       "      <th>0Kultra</th>\n",
       "      <td>-0.063553</td>\n",
       "      <td>-0.091520</td>\n",
       "      <td>0.0</td>\n",
       "      <td>0.000164</td>\n",
       "      <td>0.005525</td>\n",
       "      <td>-0.13029</td>\n",
       "      <td>-0.074239</td>\n",
       "    </tr>\n",
       "  </tbody>\n",
       "</table>\n",
       "</div>"
      ],
      "text/plain": [
       "               follower_cnt  listed_cnt  betweenness  closeness    degree  \\\n",
       "screen_name                                                                 \n",
       "02July1776        -0.080401   -0.140795          0.0   0.000164  0.005525   \n",
       "040Brian          -0.089844   -0.137005          0.0   0.000164  0.005525   \n",
       "080TFairchild     -0.089909   -0.140795          0.0   0.000164  0.005525   \n",
       "08balet80         -0.047178   -0.123739          0.0   0.000000  0.011050   \n",
       "0Kultra           -0.063553   -0.091520          0.0   0.000164  0.005525   \n",
       "\n",
       "               retweets     score  \n",
       "screen_name                        \n",
       "02July1776     -0.13029 -0.097319  \n",
       "040Brian       -0.13029 -0.097691  \n",
       "080TFairchild  -0.13029 -0.099220  \n",
       "08balet80      -0.13029 -0.082779  \n",
       "0Kultra        -0.13029 -0.074239  "
      ]
     },
     "execution_count": 14,
     "metadata": {},
     "output_type": "execute_result"
    }
   ],
   "source": [
    "full_df.head()"
   ]
  },
  {
   "cell_type": "code",
   "execution_count": 15,
   "metadata": {},
   "outputs": [
    {
     "data": {
      "text/plain": [
       "screen_name\n",
       "MSNBC             21.980027\n",
       "ACLU              15.680583\n",
       "elizabethforma    15.440219\n",
       "glamourmag        10.245322\n",
       "NYDailyNews        9.787339\n",
       "ajplus             9.646476\n",
       "AC360              8.829026\n",
       "tomcolicchio       8.575710\n",
       "TomiLahren         7.457697\n",
       "B75434425          6.691237\n",
       "Name: score, dtype: float64"
      ]
     },
     "execution_count": 15,
     "metadata": {},
     "output_type": "execute_result"
    }
   ],
   "source": [
    "full_df['score'].sort_values(ascending = False)[:10]"
   ]
  },
  {
   "cell_type": "code",
   "execution_count": null,
   "metadata": {
    "collapsed": true
   },
   "outputs": [],
   "source": []
  }
 ],
 "metadata": {
  "kernelspec": {
   "display_name": "Python 2",
   "language": "python",
   "name": "python2"
  },
  "language_info": {
   "codemirror_mode": {
    "name": "ipython",
    "version": 2
   },
   "file_extension": ".py",
   "mimetype": "text/x-python",
   "name": "python",
   "nbconvert_exporter": "python",
   "pygments_lexer": "ipython2",
   "version": "2.7.13"
  }
 },
 "nbformat": 4,
 "nbformat_minor": 2
}
