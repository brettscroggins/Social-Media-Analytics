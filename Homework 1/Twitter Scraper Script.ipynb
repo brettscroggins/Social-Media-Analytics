{
 "cells": [
  {
   "cell_type": "markdown",
   "metadata": {},
   "source": [
    "# Social Media Analytics Spring 2018 - Assignment #1\n",
    "\n",
    "## Matt Barrett, Tim Lai, Christine Mulcahy, Elena Reynolds, and Brett Scroggins"
   ]
  },
  {
   "cell_type": "markdown",
   "metadata": {},
   "source": [
    "## Twitter Scraper"
   ]
  },
  {
   "cell_type": "code",
   "execution_count": 135,
   "metadata": {
    "collapsed": true
   },
   "outputs": [],
   "source": [
    "import tweepy\n",
    "import csv\n",
    "import pandas as pd\n",
    "from copy import deepcopy\n",
    "\n",
    "#Import the necessary methods from tweepy library\n",
    "from tweepy.streaming import StreamListener\n",
    "from tweepy import OAuthHandler\n",
    "from tweepy import Stream\n",
    "\n",
    "import sys\n",
    "reload(sys)\n",
    "sys.setdefaultencoding('utf8')\n",
    "\n",
    "#Variables that contains the user credentials to access Twitter API \n",
    "access_token = \"287477875-xo2UWWLIXKljdXLuDp7CZ7x9Y3m2SbepsO8zAaWt\"\n",
    "access_secret = \"rKmtahChLCkZkCObVMV2S6oMQUM9iTb7cn0uVxruQVQ0m\"\n",
    "consumer_key = \"ojq6XJAHquz3QVbvpBIgd7CzD\"\n",
    "consumer_secret = \"upBT5CCrenzN3XzHXtdonPsZEJbLO7PH8js3BQNouyNHNMJOGg\"\n",
    "\n",
    "auth = OAuthHandler(consumer_key, consumer_secret)\n",
    "auth.set_access_token(access_token, access_secret)\n",
    " \n",
    "api = tweepy.API(auth)"
   ]
  },
  {
   "cell_type": "code",
   "execution_count": 136,
   "metadata": {
    "collapsed": true,
    "scrolled": true
   },
   "outputs": [],
   "source": [
    "import tweepy\n",
    "import csv\n",
    "import json\n",
    "\n",
    "columns = ['screen_name','name', 'text']\n",
    "df = pd.DataFrame(columns=columns)\n",
    "\n",
    "#Get the first 1500 items based on the search query and store it\n",
    "for tweet in tweepy.Cursor(api.search, q='%23SOTU',\n",
    "                          since='2018-01-29',\n",
    "                          until='2018-01-30').items(1500):\n",
    "    df.loc[tweet.user.id] = [tweet.user.id, tweet.user.name, tweet.text.encode('utf-8')]"
   ]
  },
  {
   "cell_type": "code",
   "execution_count": 138,
   "metadata": {
    "scrolled": false
   },
   "outputs": [
    {
     "data": {
      "text/html": [
       "<div>\n",
       "<style>\n",
       "    .dataframe thead tr:only-child th {\n",
       "        text-align: right;\n",
       "    }\n",
       "\n",
       "    .dataframe thead th {\n",
       "        text-align: left;\n",
       "    }\n",
       "\n",
       "    .dataframe tbody tr th {\n",
       "        vertical-align: top;\n",
       "    }\n",
       "</style>\n",
       "<table border=\"1\" class=\"dataframe\">\n",
       "  <thead>\n",
       "    <tr style=\"text-align: right;\">\n",
       "      <th></th>\n",
       "      <th>screen_name</th>\n",
       "      <th>name</th>\n",
       "      <th>text</th>\n",
       "    </tr>\n",
       "  </thead>\n",
       "  <tbody>\n",
       "    <tr>\n",
       "      <th>1</th>\n",
       "      <td>NaN</td>\n",
       "      <td>NaN</td>\n",
       "      <td>NaN</td>\n",
       "    </tr>\n",
       "    <tr>\n",
       "      <th>2</th>\n",
       "      <td>NaN</td>\n",
       "      <td>NaN</td>\n",
       "      <td>NaN</td>\n",
       "    </tr>\n",
       "    <tr>\n",
       "      <th>3</th>\n",
       "      <td>NaN</td>\n",
       "      <td>NaN</td>\n",
       "      <td>NaN</td>\n",
       "    </tr>\n",
       "    <tr>\n",
       "      <th>4</th>\n",
       "      <td>NaN</td>\n",
       "      <td>NaN</td>\n",
       "      <td>NaN</td>\n",
       "    </tr>\n",
       "    <tr>\n",
       "      <th>5</th>\n",
       "      <td>NaN</td>\n",
       "      <td>NaN</td>\n",
       "      <td>NaN</td>\n",
       "    </tr>\n",
       "  </tbody>\n",
       "</table>\n",
       "</div>"
      ],
      "text/plain": [
       "  screen_name name text\n",
       "1         NaN  NaN  NaN\n",
       "2         NaN  NaN  NaN\n",
       "3         NaN  NaN  NaN\n",
       "4         NaN  NaN  NaN\n",
       "5         NaN  NaN  NaN"
      ]
     },
     "execution_count": 138,
     "metadata": {},
     "output_type": "execute_result"
    }
   ],
   "source": [
    "df2 = deepcopy(df)\n",
    "new_index = range(1,1501)\n",
    "df2.reindex(new_index).head()"
   ]
  },
  {
   "cell_type": "code",
   "execution_count": 139,
   "metadata": {
    "scrolled": true
   },
   "outputs": [
    {
     "data": {
      "text/html": [
       "<div>\n",
       "<style>\n",
       "    .dataframe thead tr:only-child th {\n",
       "        text-align: right;\n",
       "    }\n",
       "\n",
       "    .dataframe thead th {\n",
       "        text-align: left;\n",
       "    }\n",
       "\n",
       "    .dataframe tbody tr th {\n",
       "        vertical-align: top;\n",
       "    }\n",
       "</style>\n",
       "<table border=\"1\" class=\"dataframe\">\n",
       "  <thead>\n",
       "    <tr style=\"text-align: right;\">\n",
       "      <th></th>\n",
       "      <th>screen_name</th>\n",
       "      <th>name</th>\n",
       "      <th>text</th>\n",
       "    </tr>\n",
       "  </thead>\n",
       "  <tbody>\n",
       "    <tr>\n",
       "      <th>0</th>\n",
       "      <td>871701045071798272</td>\n",
       "      <td>Komala Hayes</td>\n",
       "      <td>RT @JoyAnnReid: How hard will it be for Trump ...</td>\n",
       "    </tr>\n",
       "    <tr>\n",
       "      <th>1</th>\n",
       "      <td>873715295088779267</td>\n",
       "      <td>Akita4two</td>\n",
       "      <td>RT @MillenPolitics: Keep this in mind at tomor...</td>\n",
       "    </tr>\n",
       "    <tr>\n",
       "      <th>2</th>\n",
       "      <td>946871832493178880</td>\n",
       "      <td>⭐Odie-Joan⭐</td>\n",
       "      <td>RT @BWDR: imagine how much better it would be ...</td>\n",
       "    </tr>\n",
       "    <tr>\n",
       "      <th>3</th>\n",
       "      <td>32167206</td>\n",
       "      <td>Actress/Activist</td>\n",
       "      <td>#BoycottStateOfTheUnion #SOTU BLACKOUT\\n#Clear...</td>\n",
       "    </tr>\n",
       "    <tr>\n",
       "      <th>4</th>\n",
       "      <td>138619638</td>\n",
       "      <td>Joanna</td>\n",
       "      <td>RT @truckfump2017: Friendly reminder: #TheResi...</td>\n",
       "    </tr>\n",
       "  </tbody>\n",
       "</table>\n",
       "</div>"
      ],
      "text/plain": [
       "          screen_name              name  \\\n",
       "0  871701045071798272      Komala Hayes   \n",
       "1  873715295088779267         Akita4two   \n",
       "2  946871832493178880       ⭐Odie-Joan⭐   \n",
       "3            32167206  Actress/Activist   \n",
       "4           138619638            Joanna   \n",
       "\n",
       "                                                text  \n",
       "0  RT @JoyAnnReid: How hard will it be for Trump ...  \n",
       "1  RT @MillenPolitics: Keep this in mind at tomor...  \n",
       "2  RT @BWDR: imagine how much better it would be ...  \n",
       "3  #BoycottStateOfTheUnion #SOTU BLACKOUT\\n#Clear...  \n",
       "4  RT @truckfump2017: Friendly reminder: #TheResi...  "
      ]
     },
     "execution_count": 139,
     "metadata": {},
     "output_type": "execute_result"
    }
   ],
   "source": [
    "# 1/29 to 1/30\n",
    "full_df1 = df.merge(df2)\n",
    "full_df1.head()"
   ]
  },
  {
   "cell_type": "code",
   "execution_count": 140,
   "metadata": {},
   "outputs": [
    {
     "data": {
      "text/html": [
       "<div>\n",
       "<style>\n",
       "    .dataframe thead tr:only-child th {\n",
       "        text-align: right;\n",
       "    }\n",
       "\n",
       "    .dataframe thead th {\n",
       "        text-align: left;\n",
       "    }\n",
       "\n",
       "    .dataframe tbody tr th {\n",
       "        vertical-align: top;\n",
       "    }\n",
       "</style>\n",
       "<table border=\"1\" class=\"dataframe\">\n",
       "  <thead>\n",
       "    <tr style=\"text-align: right;\">\n",
       "      <th></th>\n",
       "      <th>screen_name</th>\n",
       "      <th>name</th>\n",
       "      <th>text</th>\n",
       "    </tr>\n",
       "  </thead>\n",
       "  <tbody>\n",
       "    <tr>\n",
       "      <th>0</th>\n",
       "      <td>871701045071798272</td>\n",
       "      <td>Komala Hayes</td>\n",
       "      <td>RT @JoyAnnReid: How hard will it be for Trump ...</td>\n",
       "    </tr>\n",
       "    <tr>\n",
       "      <th>1</th>\n",
       "      <td>873715295088779267</td>\n",
       "      <td>Akita4two</td>\n",
       "      <td>RT @MillenPolitics: Keep this in mind at tomor...</td>\n",
       "    </tr>\n",
       "    <tr>\n",
       "      <th>2</th>\n",
       "      <td>946871832493178880</td>\n",
       "      <td>⭐Odie-Joan⭐</td>\n",
       "      <td>RT @BWDR: imagine how much better it would be ...</td>\n",
       "    </tr>\n",
       "    <tr>\n",
       "      <th>3</th>\n",
       "      <td>32167206</td>\n",
       "      <td>Actress/Activist</td>\n",
       "      <td>#BoycottStateOfTheUnion #SOTU BLACKOUT\\n#Clear...</td>\n",
       "    </tr>\n",
       "    <tr>\n",
       "      <th>4</th>\n",
       "      <td>138619638</td>\n",
       "      <td>Joanna</td>\n",
       "      <td>RT @truckfump2017: Friendly reminder: #TheResi...</td>\n",
       "    </tr>\n",
       "  </tbody>\n",
       "</table>\n",
       "</div>"
      ],
      "text/plain": [
       "          screen_name              name  \\\n",
       "0  871701045071798272      Komala Hayes   \n",
       "1  873715295088779267         Akita4two   \n",
       "2  946871832493178880       ⭐Odie-Joan⭐   \n",
       "3            32167206  Actress/Activist   \n",
       "4           138619638            Joanna   \n",
       "\n",
       "                                                text  \n",
       "0  RT @JoyAnnReid: How hard will it be for Trump ...  \n",
       "1  RT @MillenPolitics: Keep this in mind at tomor...  \n",
       "2  RT @BWDR: imagine how much better it would be ...  \n",
       "3  #BoycottStateOfTheUnion #SOTU BLACKOUT\\n#Clear...  \n",
       "4  RT @truckfump2017: Friendly reminder: #TheResi...  "
      ]
     },
     "execution_count": 140,
     "metadata": {},
     "output_type": "execute_result"
    }
   ],
   "source": [
    "df_29 = full_df1\n",
    "df_29.head()"
   ]
  },
  {
   "cell_type": "code",
   "execution_count": 95,
   "metadata": {
    "collapsed": true
   },
   "outputs": [],
   "source": [
    "df_29.to_csv('df29.csv')"
   ]
  },
  {
   "cell_type": "markdown",
   "metadata": {},
   "source": [
    "### Note: This scraper only retrieves 1500 tweets per run, to comply with Twitter's rate limit. This scraper was run 4 times to retrieve 6000+ tweets from 4 seperate days surrounding the State of the Union Address."
   ]
  },
  {
   "cell_type": "code",
   "execution_count": null,
   "metadata": {
    "collapsed": true
   },
   "outputs": [],
   "source": []
  }
 ],
 "metadata": {
  "kernelspec": {
   "display_name": "Python 2",
   "language": "python",
   "name": "python2"
  },
  "language_info": {
   "codemirror_mode": {
    "name": "ipython",
    "version": 2
   },
   "file_extension": ".py",
   "mimetype": "text/x-python",
   "name": "python",
   "nbconvert_exporter": "python",
   "pygments_lexer": "ipython2",
   "version": "2.7.13"
  }
 },
 "nbformat": 4,
 "nbformat_minor": 2
}
